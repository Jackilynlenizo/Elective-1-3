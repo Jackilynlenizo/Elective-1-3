{
  "nbformat": 4,
  "nbformat_minor": 0,
  "metadata": {
    "colab": {
      "name": "Operations and Expressions.ipynb",
      "provenance": [],
      "collapsed_sections": [],
      "authorship_tag": "ABX9TyMiajEOjjQsi693Wm7sygyO",
      "include_colab_link": true
    },
    "kernelspec": {
      "name": "python3",
      "display_name": "Python 3"
    },
    "language_info": {
      "name": "python"
    }
  },
  "cells": [
    {
      "cell_type": "markdown",
      "metadata": {
        "id": "view-in-github",
        "colab_type": "text"
      },
      "source": [
        "<a href=\"https://colab.research.google.com/github/Jackilynlenizo/Elective1-3/blob/main/Operations_and_Expressions.ipynb\" target=\"_parent\"><img src=\"https://colab.research.google.com/assets/colab-badge.svg\" alt=\"Open In Colab\"/></a>"
      ]
    },
    {
      "cell_type": "markdown",
      "source": [
        "##Boolean Operators"
      ],
      "metadata": {
        "id": "mdxOrS_5_n8c"
      }
    },
    {
      "cell_type": "code",
      "source": [
        "x = 10\n",
        "y = 9\n",
        "\n",
        "\n",
        "x>y\n",
        "x==y\n",
        "x<y"
      ],
      "metadata": {
        "colab": {
          "base_uri": "https://localhost:8080/"
        },
        "id": "FRYBTNa-_qBk",
        "outputId": "c4261c4a-28aa-4cf2-ed34-bcc57ed7fa5f"
      },
      "execution_count": 24,
      "outputs": [
        {
          "output_type": "execute_result",
          "data": {
            "text/plain": [
              "False"
            ]
          },
          "metadata": {},
          "execution_count": 24
        }
      ]
    },
    {
      "cell_type": "markdown",
      "source": [
        "##Bool Function"
      ],
      "metadata": {
        "id": "55WMCg-K_ssE"
      }
    },
    {
      "cell_type": "code",
      "source": [
        "print(bool(\"Maria\"))\n",
        "print(bool(17))\n",
        "\n",
        "print(bool(None))\n",
        "print(bool())\n",
        "print(bool([]))\n",
        "print(bool(0))"
      ],
      "metadata": {
        "colab": {
          "base_uri": "https://localhost:8080/"
        },
        "id": "aDAF56cV_umu",
        "outputId": "2e3e4c62-1630-486c-c2b3-4775ac6bcce1"
      },
      "execution_count": 25,
      "outputs": [
        {
          "output_type": "stream",
          "name": "stdout",
          "text": [
            "True\n",
            "True\n",
            "False\n",
            "False\n",
            "False\n",
            "False\n"
          ]
        }
      ]
    },
    {
      "cell_type": "markdown",
      "source": [
        "##Defining Function"
      ],
      "metadata": {
        "id": "bmNC2bkv_wLD"
      }
    },
    {
      "cell_type": "code",
      "source": [
        "def myFunction():\n",
        "  return False\n",
        "\n",
        "print(myFunction())"
      ],
      "metadata": {
        "colab": {
          "base_uri": "https://localhost:8080/"
        },
        "id": "dKZwYZd0_y4m",
        "outputId": "0a0ad57d-d7b0-4579-d7ba-1f92bb11b927"
      },
      "execution_count": 26,
      "outputs": [
        {
          "output_type": "stream",
          "name": "stdout",
          "text": [
            "False\n"
          ]
        }
      ]
    },
    {
      "cell_type": "code",
      "source": [
        "def myFunction():\n",
        "  return False\n",
        "\n",
        "if myFunction():\n",
        "  print(\"Yes\")\n",
        "else:\n",
        "  print(\"No\")"
      ],
      "metadata": {
        "colab": {
          "base_uri": "https://localhost:8080/"
        },
        "id": "LDnZDAuQ_0ll",
        "outputId": "c1981660-3688-42c9-d4e9-bf3313e0ccee"
      },
      "execution_count": 27,
      "outputs": [
        {
          "output_type": "stream",
          "name": "stdout",
          "text": [
            "No\n"
          ]
        }
      ]
    },
    {
      "cell_type": "markdown",
      "source": [
        "#Application 1\n"
      ],
      "metadata": {
        "id": "oF1P6m0j3oBQ"
      }
    },
    {
      "cell_type": "code",
      "source": [
        "a=6\n",
        "b=7\n",
        "\n",
        "print(a==b)\n",
        "print(a!=a)"
      ],
      "metadata": {
        "colab": {
          "base_uri": "https://localhost:8080/"
        },
        "id": "k2FbJDlx3uCp",
        "outputId": "9423f455-b50c-4983-c4e5-fb9061f10695"
      },
      "execution_count": 28,
      "outputs": [
        {
          "output_type": "stream",
          "name": "stdout",
          "text": [
            "False\n",
            "False\n"
          ]
        }
      ]
    },
    {
      "cell_type": "markdown",
      "source": [
        "##Arithmetic Operations"
      ],
      "metadata": {
        "id": "_mybLTIu4vXW"
      }
    },
    {
      "cell_type": "code",
      "source": [
        "print(a+b)\n",
        "print(a-b)\n",
        "print(a*b)\n",
        "print(a**b)\n"
      ],
      "metadata": {
        "colab": {
          "base_uri": "https://localhost:8080/"
        },
        "id": "Z3nlShZO4zos",
        "outputId": "9530e069-ea30-42fb-8099-dbf3118426c7"
      },
      "execution_count": null,
      "outputs": [
        {
          "output_type": "stream",
          "name": "stdout",
          "text": [
            "13\n",
            "-1\n",
            "42\n",
            "279936\n",
            "1\n"
          ]
        }
      ]
    },
    {
      "cell_type": "markdown",
      "source": [
        "##Bitwise Operators"
      ],
      "metadata": {
        "id": "1FEKjEMr5bTi"
      }
    },
    {
      "cell_type": "code",
      "source": [
        "c=60\n",
        "d=13\n",
        "\n",
        "print(c&d) #AND\n",
        "print(c|d) #OR\n",
        "print(c<<1) #shift left\n",
        "print(c<<2)"
      ],
      "metadata": {
        "colab": {
          "base_uri": "https://localhost:8080/"
        },
        "id": "YYzSD9Oo5d-1",
        "outputId": "222fd4fa-d54a-4072-cada-8b197db1a1ed"
      },
      "execution_count": null,
      "outputs": [
        {
          "output_type": "stream",
          "name": "stdout",
          "text": [
            "12\n",
            "61\n",
            "120\n",
            "240\n"
          ]
        }
      ]
    },
    {
      "cell_type": "markdown",
      "source": [
        "##Assignment Operators"
      ],
      "metadata": {
        "id": "4N0P9Gcg8Ft1"
      }
    },
    {
      "cell_type": "code",
      "source": [
        "##C+=3 same as c= c+3\n",
        "\n",
        "print(c) ##prev value of c\n",
        "\n",
        "c+=3\n",
        "print(c)\n",
        "\n",
        "c%=3\n",
        "print(c)"
      ],
      "metadata": {
        "colab": {
          "base_uri": "https://localhost:8080/"
        },
        "id": "FJO_Z9bj8Hz0",
        "outputId": "aff53dd6-bfbb-414d-d2ad-c482790c1bae"
      },
      "execution_count": null,
      "outputs": [
        {
          "output_type": "stream",
          "name": "stdout",
          "text": [
            "0\n",
            "3\n",
            "0\n"
          ]
        }
      ]
    },
    {
      "cell_type": "markdown",
      "source": [
        "##Logical operators"
      ],
      "metadata": {
        "id": "69AgQMkd8zKX"
      }
    },
    {
      "cell_type": "code",
      "source": [
        "c = True\n",
        "d = True\n",
        "\n",
        "not(c and d)"
      ],
      "metadata": {
        "colab": {
          "base_uri": "https://localhost:8080/"
        },
        "id": "ConLVuTr81KL",
        "outputId": "fce69e7c-4161-48dd-8c00-f894f684eb1a"
      },
      "execution_count": null,
      "outputs": [
        {
          "output_type": "execute_result",
          "data": {
            "text/plain": [
              "True"
            ]
          },
          "metadata": {},
          "execution_count": 19
        }
      ]
    },
    {
      "cell_type": "markdown",
      "source": [
        "##Identity"
      ],
      "metadata": {
        "id": "lQuRmrRT9a_u"
      }
    },
    {
      "cell_type": "code",
      "source": [
        "c is d\n",
        "c is not d"
      ],
      "metadata": {
        "colab": {
          "base_uri": "https://localhost:8080/"
        },
        "id": "gEE85Q6S9cJ0",
        "outputId": "c8f0e7e7-dbae-4732-c343-a6764e5ea798"
      },
      "execution_count": null,
      "outputs": [
        {
          "output_type": "execute_result",
          "data": {
            "text/plain": [
              "True"
            ]
          },
          "metadata": {},
          "execution_count": 20
        }
      ]
    },
    {
      "cell_type": "markdown",
      "source": [
        "##Application 2"
      ],
      "metadata": {
        "id": "i1sSeDE19l6e"
      }
    },
    {
      "cell_type": "code",
      "source": [
        "e = 10\n",
        "f = 5\n",
        "\n",
        "print(e+f)\n",
        "print(e//f)\n",
        "print(e>>2)\n",
        "print(f>>2)"
      ],
      "metadata": {
        "colab": {
          "base_uri": "https://localhost:8080/"
        },
        "id": "MZmMGPAS9o2H",
        "outputId": "187f7436-fe07-419c-9bdf-d508fc59fb8d"
      },
      "execution_count": 23,
      "outputs": [
        {
          "output_type": "stream",
          "name": "stdout",
          "text": [
            "15\n",
            "2\n",
            "2\n",
            "1\n"
          ]
        }
      ]
    }
  ]
}